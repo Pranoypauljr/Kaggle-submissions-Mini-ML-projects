{
 "cells": [
  {
   "cell_type": "code",
   "execution_count": 395,
   "id": "f948e493",
   "metadata": {},
   "outputs": [],
   "source": [
    "import numpy as np\n",
    "import pandas as pd\n",
    "from matplotlib import pyplot as plt\n",
    "from sklearn.linear_model import LinearRegression\n",
    "from sklearn.model_selection import train_test_split\n",
    "from sklearn import metrics\n",
    "from sklearn.preprocessing import normalize\n",
    "from sklearn.preprocessing import LabelEncoder"
   ]
  },
  {
   "cell_type": "code",
   "execution_count": 396,
   "id": "dbe0ecf2",
   "metadata": {},
   "outputs": [],
   "source": [
    "df=pd.read_csv(\"weatherHistory.csv\")"
   ]
  },
  {
   "cell_type": "code",
   "execution_count": 397,
   "id": "c712d422",
   "metadata": {},
   "outputs": [
    {
     "data": {
      "text/html": [
       "<div>\n",
       "<style scoped>\n",
       "    .dataframe tbody tr th:only-of-type {\n",
       "        vertical-align: middle;\n",
       "    }\n",
       "\n",
       "    .dataframe tbody tr th {\n",
       "        vertical-align: top;\n",
       "    }\n",
       "\n",
       "    .dataframe thead th {\n",
       "        text-align: right;\n",
       "    }\n",
       "</style>\n",
       "<table border=\"1\" class=\"dataframe\">\n",
       "  <thead>\n",
       "    <tr style=\"text-align: right;\">\n",
       "      <th></th>\n",
       "      <th>Formatted Date</th>\n",
       "      <th>Summary</th>\n",
       "      <th>Precip Type</th>\n",
       "      <th>Temperature (C)</th>\n",
       "      <th>Apparent Temperature (C)</th>\n",
       "      <th>Humidity</th>\n",
       "      <th>Wind Speed (km/h)</th>\n",
       "      <th>Wind Bearing (degrees)</th>\n",
       "      <th>Visibility (km)</th>\n",
       "      <th>Loud Cover</th>\n",
       "      <th>Pressure (millibars)</th>\n",
       "      <th>Daily Summary</th>\n",
       "    </tr>\n",
       "  </thead>\n",
       "  <tbody>\n",
       "    <tr>\n",
       "      <th>0</th>\n",
       "      <td>2006-04-01 00:00:00.000 +0200</td>\n",
       "      <td>Partly Cloudy</td>\n",
       "      <td>rain</td>\n",
       "      <td>9.472222</td>\n",
       "      <td>7.388889</td>\n",
       "      <td>0.89</td>\n",
       "      <td>14.1197</td>\n",
       "      <td>251.0</td>\n",
       "      <td>15.8263</td>\n",
       "      <td>0.0</td>\n",
       "      <td>1015.13</td>\n",
       "      <td>Partly cloudy throughout the day.</td>\n",
       "    </tr>\n",
       "    <tr>\n",
       "      <th>1</th>\n",
       "      <td>2006-04-01 01:00:00.000 +0200</td>\n",
       "      <td>Partly Cloudy</td>\n",
       "      <td>rain</td>\n",
       "      <td>9.355556</td>\n",
       "      <td>7.227778</td>\n",
       "      <td>0.86</td>\n",
       "      <td>14.2646</td>\n",
       "      <td>259.0</td>\n",
       "      <td>15.8263</td>\n",
       "      <td>0.0</td>\n",
       "      <td>1015.63</td>\n",
       "      <td>Partly cloudy throughout the day.</td>\n",
       "    </tr>\n",
       "    <tr>\n",
       "      <th>2</th>\n",
       "      <td>2006-04-01 02:00:00.000 +0200</td>\n",
       "      <td>Mostly Cloudy</td>\n",
       "      <td>rain</td>\n",
       "      <td>9.377778</td>\n",
       "      <td>9.377778</td>\n",
       "      <td>0.89</td>\n",
       "      <td>3.9284</td>\n",
       "      <td>204.0</td>\n",
       "      <td>14.9569</td>\n",
       "      <td>0.0</td>\n",
       "      <td>1015.94</td>\n",
       "      <td>Partly cloudy throughout the day.</td>\n",
       "    </tr>\n",
       "    <tr>\n",
       "      <th>3</th>\n",
       "      <td>2006-04-01 03:00:00.000 +0200</td>\n",
       "      <td>Partly Cloudy</td>\n",
       "      <td>rain</td>\n",
       "      <td>8.288889</td>\n",
       "      <td>5.944444</td>\n",
       "      <td>0.83</td>\n",
       "      <td>14.1036</td>\n",
       "      <td>269.0</td>\n",
       "      <td>15.8263</td>\n",
       "      <td>0.0</td>\n",
       "      <td>1016.41</td>\n",
       "      <td>Partly cloudy throughout the day.</td>\n",
       "    </tr>\n",
       "    <tr>\n",
       "      <th>4</th>\n",
       "      <td>2006-04-01 04:00:00.000 +0200</td>\n",
       "      <td>Mostly Cloudy</td>\n",
       "      <td>rain</td>\n",
       "      <td>8.755556</td>\n",
       "      <td>6.977778</td>\n",
       "      <td>0.83</td>\n",
       "      <td>11.0446</td>\n",
       "      <td>259.0</td>\n",
       "      <td>15.8263</td>\n",
       "      <td>0.0</td>\n",
       "      <td>1016.51</td>\n",
       "      <td>Partly cloudy throughout the day.</td>\n",
       "    </tr>\n",
       "    <tr>\n",
       "      <th>5</th>\n",
       "      <td>2006-04-01 05:00:00.000 +0200</td>\n",
       "      <td>Partly Cloudy</td>\n",
       "      <td>rain</td>\n",
       "      <td>9.222222</td>\n",
       "      <td>7.111111</td>\n",
       "      <td>0.85</td>\n",
       "      <td>13.9587</td>\n",
       "      <td>258.0</td>\n",
       "      <td>14.9569</td>\n",
       "      <td>0.0</td>\n",
       "      <td>1016.66</td>\n",
       "      <td>Partly cloudy throughout the day.</td>\n",
       "    </tr>\n",
       "    <tr>\n",
       "      <th>6</th>\n",
       "      <td>2006-04-01 06:00:00.000 +0200</td>\n",
       "      <td>Partly Cloudy</td>\n",
       "      <td>rain</td>\n",
       "      <td>7.733333</td>\n",
       "      <td>5.522222</td>\n",
       "      <td>0.95</td>\n",
       "      <td>12.3648</td>\n",
       "      <td>259.0</td>\n",
       "      <td>9.9820</td>\n",
       "      <td>0.0</td>\n",
       "      <td>1016.72</td>\n",
       "      <td>Partly cloudy throughout the day.</td>\n",
       "    </tr>\n",
       "    <tr>\n",
       "      <th>7</th>\n",
       "      <td>2006-04-01 07:00:00.000 +0200</td>\n",
       "      <td>Partly Cloudy</td>\n",
       "      <td>rain</td>\n",
       "      <td>8.772222</td>\n",
       "      <td>6.527778</td>\n",
       "      <td>0.89</td>\n",
       "      <td>14.1519</td>\n",
       "      <td>260.0</td>\n",
       "      <td>9.9820</td>\n",
       "      <td>0.0</td>\n",
       "      <td>1016.84</td>\n",
       "      <td>Partly cloudy throughout the day.</td>\n",
       "    </tr>\n",
       "    <tr>\n",
       "      <th>8</th>\n",
       "      <td>2006-04-01 08:00:00.000 +0200</td>\n",
       "      <td>Partly Cloudy</td>\n",
       "      <td>rain</td>\n",
       "      <td>10.822222</td>\n",
       "      <td>10.822222</td>\n",
       "      <td>0.82</td>\n",
       "      <td>11.3183</td>\n",
       "      <td>259.0</td>\n",
       "      <td>9.9820</td>\n",
       "      <td>0.0</td>\n",
       "      <td>1017.37</td>\n",
       "      <td>Partly cloudy throughout the day.</td>\n",
       "    </tr>\n",
       "    <tr>\n",
       "      <th>9</th>\n",
       "      <td>2006-04-01 09:00:00.000 +0200</td>\n",
       "      <td>Partly Cloudy</td>\n",
       "      <td>rain</td>\n",
       "      <td>13.772222</td>\n",
       "      <td>13.772222</td>\n",
       "      <td>0.72</td>\n",
       "      <td>12.5258</td>\n",
       "      <td>279.0</td>\n",
       "      <td>9.9820</td>\n",
       "      <td>0.0</td>\n",
       "      <td>1017.22</td>\n",
       "      <td>Partly cloudy throughout the day.</td>\n",
       "    </tr>\n",
       "  </tbody>\n",
       "</table>\n",
       "</div>"
      ],
      "text/plain": [
       "                  Formatted Date        Summary Precip Type  Temperature (C)  \\\n",
       "0  2006-04-01 00:00:00.000 +0200  Partly Cloudy        rain         9.472222   \n",
       "1  2006-04-01 01:00:00.000 +0200  Partly Cloudy        rain         9.355556   \n",
       "2  2006-04-01 02:00:00.000 +0200  Mostly Cloudy        rain         9.377778   \n",
       "3  2006-04-01 03:00:00.000 +0200  Partly Cloudy        rain         8.288889   \n",
       "4  2006-04-01 04:00:00.000 +0200  Mostly Cloudy        rain         8.755556   \n",
       "5  2006-04-01 05:00:00.000 +0200  Partly Cloudy        rain         9.222222   \n",
       "6  2006-04-01 06:00:00.000 +0200  Partly Cloudy        rain         7.733333   \n",
       "7  2006-04-01 07:00:00.000 +0200  Partly Cloudy        rain         8.772222   \n",
       "8  2006-04-01 08:00:00.000 +0200  Partly Cloudy        rain        10.822222   \n",
       "9  2006-04-01 09:00:00.000 +0200  Partly Cloudy        rain        13.772222   \n",
       "\n",
       "   Apparent Temperature (C)  Humidity  Wind Speed (km/h)  \\\n",
       "0                  7.388889      0.89            14.1197   \n",
       "1                  7.227778      0.86            14.2646   \n",
       "2                  9.377778      0.89             3.9284   \n",
       "3                  5.944444      0.83            14.1036   \n",
       "4                  6.977778      0.83            11.0446   \n",
       "5                  7.111111      0.85            13.9587   \n",
       "6                  5.522222      0.95            12.3648   \n",
       "7                  6.527778      0.89            14.1519   \n",
       "8                 10.822222      0.82            11.3183   \n",
       "9                 13.772222      0.72            12.5258   \n",
       "\n",
       "   Wind Bearing (degrees)  Visibility (km)  Loud Cover  Pressure (millibars)  \\\n",
       "0                   251.0          15.8263         0.0               1015.13   \n",
       "1                   259.0          15.8263         0.0               1015.63   \n",
       "2                   204.0          14.9569         0.0               1015.94   \n",
       "3                   269.0          15.8263         0.0               1016.41   \n",
       "4                   259.0          15.8263         0.0               1016.51   \n",
       "5                   258.0          14.9569         0.0               1016.66   \n",
       "6                   259.0           9.9820         0.0               1016.72   \n",
       "7                   260.0           9.9820         0.0               1016.84   \n",
       "8                   259.0           9.9820         0.0               1017.37   \n",
       "9                   279.0           9.9820         0.0               1017.22   \n",
       "\n",
       "                       Daily Summary  \n",
       "0  Partly cloudy throughout the day.  \n",
       "1  Partly cloudy throughout the day.  \n",
       "2  Partly cloudy throughout the day.  \n",
       "3  Partly cloudy throughout the day.  \n",
       "4  Partly cloudy throughout the day.  \n",
       "5  Partly cloudy throughout the day.  \n",
       "6  Partly cloudy throughout the day.  \n",
       "7  Partly cloudy throughout the day.  \n",
       "8  Partly cloudy throughout the day.  \n",
       "9  Partly cloudy throughout the day.  "
      ]
     },
     "execution_count": 397,
     "metadata": {},
     "output_type": "execute_result"
    }
   ],
   "source": [
    "df.head(10)"
   ]
  },
  {
   "cell_type": "markdown",
   "id": "b367542e",
   "metadata": {},
   "source": [
    "DATA CLEANING"
   ]
  },
  {
   "cell_type": "code",
   "execution_count": 398,
   "id": "b082ea1b",
   "metadata": {},
   "outputs": [
    {
     "name": "stdout",
     "output_type": "stream",
     "text": [
      "<class 'pandas.core.frame.DataFrame'>\n",
      "RangeIndex: 96453 entries, 0 to 96452\n",
      "Data columns (total 12 columns):\n",
      " #   Column                    Non-Null Count  Dtype  \n",
      "---  ------                    --------------  -----  \n",
      " 0   Formatted Date            96453 non-null  object \n",
      " 1   Summary                   96453 non-null  object \n",
      " 2   Precip Type               95936 non-null  object \n",
      " 3   Temperature (C)           96453 non-null  float64\n",
      " 4   Apparent Temperature (C)  96453 non-null  float64\n",
      " 5   Humidity                  96453 non-null  float64\n",
      " 6   Wind Speed (km/h)         96453 non-null  float64\n",
      " 7   Wind Bearing (degrees)    96453 non-null  float64\n",
      " 8   Visibility (km)           96453 non-null  float64\n",
      " 9   Loud Cover                96453 non-null  float64\n",
      " 10  Pressure (millibars)      96453 non-null  float64\n",
      " 11  Daily Summary             96453 non-null  object \n",
      "dtypes: float64(8), object(4)\n",
      "memory usage: 8.8+ MB\n"
     ]
    }
   ],
   "source": [
    "df.info()#info about the dataframe used"
   ]
  },
  {
   "cell_type": "code",
   "execution_count": 399,
   "id": "b27a2527",
   "metadata": {},
   "outputs": [
    {
     "data": {
      "text/html": [
       "<div>\n",
       "<style scoped>\n",
       "    .dataframe tbody tr th:only-of-type {\n",
       "        vertical-align: middle;\n",
       "    }\n",
       "\n",
       "    .dataframe tbody tr th {\n",
       "        vertical-align: top;\n",
       "    }\n",
       "\n",
       "    .dataframe thead th {\n",
       "        text-align: right;\n",
       "    }\n",
       "</style>\n",
       "<table border=\"1\" class=\"dataframe\">\n",
       "  <thead>\n",
       "    <tr style=\"text-align: right;\">\n",
       "      <th></th>\n",
       "      <th>Temperature (C)</th>\n",
       "      <th>Apparent Temperature (C)</th>\n",
       "      <th>Humidity</th>\n",
       "      <th>Wind Speed (km/h)</th>\n",
       "      <th>Wind Bearing (degrees)</th>\n",
       "      <th>Visibility (km)</th>\n",
       "      <th>Loud Cover</th>\n",
       "      <th>Pressure (millibars)</th>\n",
       "    </tr>\n",
       "  </thead>\n",
       "  <tbody>\n",
       "    <tr>\n",
       "      <th>count</th>\n",
       "      <td>96453.000000</td>\n",
       "      <td>96453.000000</td>\n",
       "      <td>96453.000000</td>\n",
       "      <td>96453.000000</td>\n",
       "      <td>96453.000000</td>\n",
       "      <td>96453.000000</td>\n",
       "      <td>96453.0</td>\n",
       "      <td>96453.000000</td>\n",
       "    </tr>\n",
       "    <tr>\n",
       "      <th>mean</th>\n",
       "      <td>11.932678</td>\n",
       "      <td>10.855029</td>\n",
       "      <td>0.734899</td>\n",
       "      <td>10.810640</td>\n",
       "      <td>187.509232</td>\n",
       "      <td>10.347325</td>\n",
       "      <td>0.0</td>\n",
       "      <td>1003.235956</td>\n",
       "    </tr>\n",
       "    <tr>\n",
       "      <th>std</th>\n",
       "      <td>9.551546</td>\n",
       "      <td>10.696847</td>\n",
       "      <td>0.195473</td>\n",
       "      <td>6.913571</td>\n",
       "      <td>107.383428</td>\n",
       "      <td>4.192123</td>\n",
       "      <td>0.0</td>\n",
       "      <td>116.969906</td>\n",
       "    </tr>\n",
       "    <tr>\n",
       "      <th>min</th>\n",
       "      <td>-21.822222</td>\n",
       "      <td>-27.716667</td>\n",
       "      <td>0.000000</td>\n",
       "      <td>0.000000</td>\n",
       "      <td>0.000000</td>\n",
       "      <td>0.000000</td>\n",
       "      <td>0.0</td>\n",
       "      <td>0.000000</td>\n",
       "    </tr>\n",
       "    <tr>\n",
       "      <th>25%</th>\n",
       "      <td>4.688889</td>\n",
       "      <td>2.311111</td>\n",
       "      <td>0.600000</td>\n",
       "      <td>5.828200</td>\n",
       "      <td>116.000000</td>\n",
       "      <td>8.339800</td>\n",
       "      <td>0.0</td>\n",
       "      <td>1011.900000</td>\n",
       "    </tr>\n",
       "    <tr>\n",
       "      <th>50%</th>\n",
       "      <td>12.000000</td>\n",
       "      <td>12.000000</td>\n",
       "      <td>0.780000</td>\n",
       "      <td>9.965900</td>\n",
       "      <td>180.000000</td>\n",
       "      <td>10.046400</td>\n",
       "      <td>0.0</td>\n",
       "      <td>1016.450000</td>\n",
       "    </tr>\n",
       "    <tr>\n",
       "      <th>75%</th>\n",
       "      <td>18.838889</td>\n",
       "      <td>18.838889</td>\n",
       "      <td>0.890000</td>\n",
       "      <td>14.135800</td>\n",
       "      <td>290.000000</td>\n",
       "      <td>14.812000</td>\n",
       "      <td>0.0</td>\n",
       "      <td>1021.090000</td>\n",
       "    </tr>\n",
       "    <tr>\n",
       "      <th>max</th>\n",
       "      <td>39.905556</td>\n",
       "      <td>39.344444</td>\n",
       "      <td>1.000000</td>\n",
       "      <td>63.852600</td>\n",
       "      <td>359.000000</td>\n",
       "      <td>16.100000</td>\n",
       "      <td>0.0</td>\n",
       "      <td>1046.380000</td>\n",
       "    </tr>\n",
       "  </tbody>\n",
       "</table>\n",
       "</div>"
      ],
      "text/plain": [
       "       Temperature (C)  Apparent Temperature (C)      Humidity  \\\n",
       "count     96453.000000              96453.000000  96453.000000   \n",
       "mean         11.932678                 10.855029      0.734899   \n",
       "std           9.551546                 10.696847      0.195473   \n",
       "min         -21.822222                -27.716667      0.000000   \n",
       "25%           4.688889                  2.311111      0.600000   \n",
       "50%          12.000000                 12.000000      0.780000   \n",
       "75%          18.838889                 18.838889      0.890000   \n",
       "max          39.905556                 39.344444      1.000000   \n",
       "\n",
       "       Wind Speed (km/h)  Wind Bearing (degrees)  Visibility (km)  Loud Cover  \\\n",
       "count       96453.000000            96453.000000     96453.000000     96453.0   \n",
       "mean           10.810640              187.509232        10.347325         0.0   \n",
       "std             6.913571              107.383428         4.192123         0.0   \n",
       "min             0.000000                0.000000         0.000000         0.0   \n",
       "25%             5.828200              116.000000         8.339800         0.0   \n",
       "50%             9.965900              180.000000        10.046400         0.0   \n",
       "75%            14.135800              290.000000        14.812000         0.0   \n",
       "max            63.852600              359.000000        16.100000         0.0   \n",
       "\n",
       "       Pressure (millibars)  \n",
       "count          96453.000000  \n",
       "mean            1003.235956  \n",
       "std              116.969906  \n",
       "min                0.000000  \n",
       "25%             1011.900000  \n",
       "50%             1016.450000  \n",
       "75%             1021.090000  \n",
       "max             1046.380000  "
      ]
     },
     "execution_count": 399,
     "metadata": {},
     "output_type": "execute_result"
    }
   ],
   "source": [
    "df.describe()# statistical info about the dataframe used"
   ]
  },
  {
   "cell_type": "code",
   "execution_count": 400,
   "id": "4418cdd2",
   "metadata": {},
   "outputs": [
    {
     "data": {
      "text/plain": [
       "Formatted Date                0\n",
       "Summary                       0\n",
       "Precip Type                 517\n",
       "Temperature (C)               0\n",
       "Apparent Temperature (C)      0\n",
       "Humidity                      0\n",
       "Wind Speed (km/h)             0\n",
       "Wind Bearing (degrees)        0\n",
       "Visibility (km)               0\n",
       "Loud Cover                    0\n",
       "Pressure (millibars)          0\n",
       "Daily Summary                 0\n",
       "dtype: int64"
      ]
     },
     "execution_count": 400,
     "metadata": {},
     "output_type": "execute_result"
    }
   ],
   "source": [
    "df.isnull().sum()"
   ]
  },
  {
   "cell_type": "code",
   "execution_count": 401,
   "id": "d0da4ed6",
   "metadata": {},
   "outputs": [
    {
     "data": {
      "text/plain": [
       "array([0.])"
      ]
     },
     "execution_count": 401,
     "metadata": {},
     "output_type": "execute_result"
    }
   ],
   "source": [
    "df['Loud Cover'].unique()"
   ]
  },
  {
   "cell_type": "code",
   "execution_count": 402,
   "id": "70cfd6f4",
   "metadata": {},
   "outputs": [],
   "source": [
    "df.drop('Loud Cover',axis='columns',inplace=True)#since 'loud cover' column is of no significance since it contains only one value that is zero!the significance can be checked using univariate filter methods"
   ]
  },
  {
   "cell_type": "code",
   "execution_count": 403,
   "id": "92d34d70",
   "metadata": {},
   "outputs": [
    {
     "data": {
      "text/html": [
       "<div>\n",
       "<style scoped>\n",
       "    .dataframe tbody tr th:only-of-type {\n",
       "        vertical-align: middle;\n",
       "    }\n",
       "\n",
       "    .dataframe tbody tr th {\n",
       "        vertical-align: top;\n",
       "    }\n",
       "\n",
       "    .dataframe thead th {\n",
       "        text-align: right;\n",
       "    }\n",
       "</style>\n",
       "<table border=\"1\" class=\"dataframe\">\n",
       "  <thead>\n",
       "    <tr style=\"text-align: right;\">\n",
       "      <th></th>\n",
       "      <th>Formatted Date</th>\n",
       "      <th>Summary</th>\n",
       "      <th>Precip Type</th>\n",
       "      <th>Temperature (C)</th>\n",
       "      <th>Apparent Temperature (C)</th>\n",
       "      <th>Humidity</th>\n",
       "      <th>Wind Speed (km/h)</th>\n",
       "      <th>Wind Bearing (degrees)</th>\n",
       "      <th>Visibility (km)</th>\n",
       "      <th>Pressure (millibars)</th>\n",
       "      <th>Daily Summary</th>\n",
       "    </tr>\n",
       "  </thead>\n",
       "  <tbody>\n",
       "    <tr>\n",
       "      <th>0</th>\n",
       "      <td>2006-04-01 00:00:00.000 +0200</td>\n",
       "      <td>Partly Cloudy</td>\n",
       "      <td>rain</td>\n",
       "      <td>9.472222</td>\n",
       "      <td>7.388889</td>\n",
       "      <td>0.89</td>\n",
       "      <td>14.1197</td>\n",
       "      <td>251.0</td>\n",
       "      <td>15.8263</td>\n",
       "      <td>1015.13</td>\n",
       "      <td>Partly cloudy throughout the day.</td>\n",
       "    </tr>\n",
       "    <tr>\n",
       "      <th>1</th>\n",
       "      <td>2006-04-01 01:00:00.000 +0200</td>\n",
       "      <td>Partly Cloudy</td>\n",
       "      <td>rain</td>\n",
       "      <td>9.355556</td>\n",
       "      <td>7.227778</td>\n",
       "      <td>0.86</td>\n",
       "      <td>14.2646</td>\n",
       "      <td>259.0</td>\n",
       "      <td>15.8263</td>\n",
       "      <td>1015.63</td>\n",
       "      <td>Partly cloudy throughout the day.</td>\n",
       "    </tr>\n",
       "    <tr>\n",
       "      <th>2</th>\n",
       "      <td>2006-04-01 02:00:00.000 +0200</td>\n",
       "      <td>Mostly Cloudy</td>\n",
       "      <td>rain</td>\n",
       "      <td>9.377778</td>\n",
       "      <td>9.377778</td>\n",
       "      <td>0.89</td>\n",
       "      <td>3.9284</td>\n",
       "      <td>204.0</td>\n",
       "      <td>14.9569</td>\n",
       "      <td>1015.94</td>\n",
       "      <td>Partly cloudy throughout the day.</td>\n",
       "    </tr>\n",
       "    <tr>\n",
       "      <th>3</th>\n",
       "      <td>2006-04-01 03:00:00.000 +0200</td>\n",
       "      <td>Partly Cloudy</td>\n",
       "      <td>rain</td>\n",
       "      <td>8.288889</td>\n",
       "      <td>5.944444</td>\n",
       "      <td>0.83</td>\n",
       "      <td>14.1036</td>\n",
       "      <td>269.0</td>\n",
       "      <td>15.8263</td>\n",
       "      <td>1016.41</td>\n",
       "      <td>Partly cloudy throughout the day.</td>\n",
       "    </tr>\n",
       "    <tr>\n",
       "      <th>4</th>\n",
       "      <td>2006-04-01 04:00:00.000 +0200</td>\n",
       "      <td>Mostly Cloudy</td>\n",
       "      <td>rain</td>\n",
       "      <td>8.755556</td>\n",
       "      <td>6.977778</td>\n",
       "      <td>0.83</td>\n",
       "      <td>11.0446</td>\n",
       "      <td>259.0</td>\n",
       "      <td>15.8263</td>\n",
       "      <td>1016.51</td>\n",
       "      <td>Partly cloudy throughout the day.</td>\n",
       "    </tr>\n",
       "  </tbody>\n",
       "</table>\n",
       "</div>"
      ],
      "text/plain": [
       "                  Formatted Date        Summary Precip Type  Temperature (C)  \\\n",
       "0  2006-04-01 00:00:00.000 +0200  Partly Cloudy        rain         9.472222   \n",
       "1  2006-04-01 01:00:00.000 +0200  Partly Cloudy        rain         9.355556   \n",
       "2  2006-04-01 02:00:00.000 +0200  Mostly Cloudy        rain         9.377778   \n",
       "3  2006-04-01 03:00:00.000 +0200  Partly Cloudy        rain         8.288889   \n",
       "4  2006-04-01 04:00:00.000 +0200  Mostly Cloudy        rain         8.755556   \n",
       "\n",
       "   Apparent Temperature (C)  Humidity  Wind Speed (km/h)  \\\n",
       "0                  7.388889      0.89            14.1197   \n",
       "1                  7.227778      0.86            14.2646   \n",
       "2                  9.377778      0.89             3.9284   \n",
       "3                  5.944444      0.83            14.1036   \n",
       "4                  6.977778      0.83            11.0446   \n",
       "\n",
       "   Wind Bearing (degrees)  Visibility (km)  Pressure (millibars)  \\\n",
       "0                   251.0          15.8263               1015.13   \n",
       "1                   259.0          15.8263               1015.63   \n",
       "2                   204.0          14.9569               1015.94   \n",
       "3                   269.0          15.8263               1016.41   \n",
       "4                   259.0          15.8263               1016.51   \n",
       "\n",
       "                       Daily Summary  \n",
       "0  Partly cloudy throughout the day.  \n",
       "1  Partly cloudy throughout the day.  \n",
       "2  Partly cloudy throughout the day.  \n",
       "3  Partly cloudy throughout the day.  \n",
       "4  Partly cloudy throughout the day.  "
      ]
     },
     "execution_count": 403,
     "metadata": {},
     "output_type": "execute_result"
    }
   ],
   "source": [
    "df.head()"
   ]
  },
  {
   "cell_type": "code",
   "execution_count": 404,
   "id": "f1d9a2be",
   "metadata": {},
   "outputs": [
    {
     "data": {
      "text/html": [
       "<div>\n",
       "<style scoped>\n",
       "    .dataframe tbody tr th:only-of-type {\n",
       "        vertical-align: middle;\n",
       "    }\n",
       "\n",
       "    .dataframe tbody tr th {\n",
       "        vertical-align: top;\n",
       "    }\n",
       "\n",
       "    .dataframe thead th {\n",
       "        text-align: right;\n",
       "    }\n",
       "</style>\n",
       "<table border=\"1\" class=\"dataframe\">\n",
       "  <thead>\n",
       "    <tr style=\"text-align: right;\">\n",
       "      <th></th>\n",
       "      <th>Temperature (C)</th>\n",
       "      <th>Apparent Temperature (C)</th>\n",
       "      <th>Humidity</th>\n",
       "      <th>Wind Speed (km/h)</th>\n",
       "      <th>Wind Bearing (degrees)</th>\n",
       "      <th>Visibility (km)</th>\n",
       "      <th>Pressure (millibars)</th>\n",
       "    </tr>\n",
       "  </thead>\n",
       "  <tbody>\n",
       "    <tr>\n",
       "      <th>Temperature (C)</th>\n",
       "      <td>1.000000</td>\n",
       "      <td>0.992629</td>\n",
       "      <td>-0.632255</td>\n",
       "      <td>0.008957</td>\n",
       "      <td>0.029988</td>\n",
       "      <td>0.392847</td>\n",
       "      <td>-0.005447</td>\n",
       "    </tr>\n",
       "    <tr>\n",
       "      <th>Apparent Temperature (C)</th>\n",
       "      <td>0.992629</td>\n",
       "      <td>1.000000</td>\n",
       "      <td>-0.602571</td>\n",
       "      <td>-0.056650</td>\n",
       "      <td>0.029031</td>\n",
       "      <td>0.381718</td>\n",
       "      <td>-0.000219</td>\n",
       "    </tr>\n",
       "    <tr>\n",
       "      <th>Humidity</th>\n",
       "      <td>-0.632255</td>\n",
       "      <td>-0.602571</td>\n",
       "      <td>1.000000</td>\n",
       "      <td>-0.224951</td>\n",
       "      <td>0.000735</td>\n",
       "      <td>-0.369173</td>\n",
       "      <td>0.005454</td>\n",
       "    </tr>\n",
       "    <tr>\n",
       "      <th>Wind Speed (km/h)</th>\n",
       "      <td>0.008957</td>\n",
       "      <td>-0.056650</td>\n",
       "      <td>-0.224951</td>\n",
       "      <td>1.000000</td>\n",
       "      <td>0.103822</td>\n",
       "      <td>0.100749</td>\n",
       "      <td>-0.049263</td>\n",
       "    </tr>\n",
       "    <tr>\n",
       "      <th>Wind Bearing (degrees)</th>\n",
       "      <td>0.029988</td>\n",
       "      <td>0.029031</td>\n",
       "      <td>0.000735</td>\n",
       "      <td>0.103822</td>\n",
       "      <td>1.000000</td>\n",
       "      <td>0.047594</td>\n",
       "      <td>-0.011651</td>\n",
       "    </tr>\n",
       "    <tr>\n",
       "      <th>Visibility (km)</th>\n",
       "      <td>0.392847</td>\n",
       "      <td>0.381718</td>\n",
       "      <td>-0.369173</td>\n",
       "      <td>0.100749</td>\n",
       "      <td>0.047594</td>\n",
       "      <td>1.000000</td>\n",
       "      <td>0.059818</td>\n",
       "    </tr>\n",
       "    <tr>\n",
       "      <th>Pressure (millibars)</th>\n",
       "      <td>-0.005447</td>\n",
       "      <td>-0.000219</td>\n",
       "      <td>0.005454</td>\n",
       "      <td>-0.049263</td>\n",
       "      <td>-0.011651</td>\n",
       "      <td>0.059818</td>\n",
       "      <td>1.000000</td>\n",
       "    </tr>\n",
       "  </tbody>\n",
       "</table>\n",
       "</div>"
      ],
      "text/plain": [
       "                          Temperature (C)  Apparent Temperature (C)  Humidity  \\\n",
       "Temperature (C)                  1.000000                  0.992629 -0.632255   \n",
       "Apparent Temperature (C)         0.992629                  1.000000 -0.602571   \n",
       "Humidity                        -0.632255                 -0.602571  1.000000   \n",
       "Wind Speed (km/h)                0.008957                 -0.056650 -0.224951   \n",
       "Wind Bearing (degrees)           0.029988                  0.029031  0.000735   \n",
       "Visibility (km)                  0.392847                  0.381718 -0.369173   \n",
       "Pressure (millibars)            -0.005447                 -0.000219  0.005454   \n",
       "\n",
       "                          Wind Speed (km/h)  Wind Bearing (degrees)  \\\n",
       "Temperature (C)                    0.008957                0.029988   \n",
       "Apparent Temperature (C)          -0.056650                0.029031   \n",
       "Humidity                          -0.224951                0.000735   \n",
       "Wind Speed (km/h)                  1.000000                0.103822   \n",
       "Wind Bearing (degrees)             0.103822                1.000000   \n",
       "Visibility (km)                    0.100749                0.047594   \n",
       "Pressure (millibars)              -0.049263               -0.011651   \n",
       "\n",
       "                          Visibility (km)  Pressure (millibars)  \n",
       "Temperature (C)                  0.392847             -0.005447  \n",
       "Apparent Temperature (C)         0.381718             -0.000219  \n",
       "Humidity                        -0.369173              0.005454  \n",
       "Wind Speed (km/h)                0.100749             -0.049263  \n",
       "Wind Bearing (degrees)           0.047594             -0.011651  \n",
       "Visibility (km)                  1.000000              0.059818  \n",
       "Pressure (millibars)             0.059818              1.000000  "
      ]
     },
     "execution_count": 404,
     "metadata": {},
     "output_type": "execute_result"
    }
   ],
   "source": [
    "df.corr()#to find correlation between columns,since we need to predict apparent temperature from the given data and temperature and apparent temperature are highly correlated then we need to drop rest of the columns."
   ]
  },
  {
   "cell_type": "markdown",
   "id": "35f843d4",
   "metadata": {},
   "source": [
    "DROPPING HIGHLY CORRELATED COLUMNS"
   ]
  },
  {
   "cell_type": "code",
   "execution_count": 405,
   "id": "306e5952",
   "metadata": {},
   "outputs": [],
   "source": [
    "df.drop('Formatted Date',axis='columns',inplace=True)#data column is irrelevant for now and tough to encode.\n",
    "df.drop('Daily Summary',axis='columns',inplace=True)#column give similar results and highly correlated with Summary column.\n",
    "df.drop('Wind Speed (km/h)',axis='columns',inplace=True)\n",
    "df.drop('Wind Bearing (degrees)',axis='columns',inplace=True)\n",
    "df.drop('Visibility (km)',axis='columns',inplace=True)\n",
    "df.drop('Pressure (millibars)',axis='columns',inplace=True)"
   ]
  },
  {
   "cell_type": "code",
   "execution_count": 406,
   "id": "337881c1",
   "metadata": {},
   "outputs": [
    {
     "data": {
      "text/plain": [
       "array(['Partly Cloudy', 'Mostly Cloudy', 'Overcast', 'Foggy',\n",
       "       'Breezy and Mostly Cloudy', 'Clear', 'Breezy and Partly Cloudy',\n",
       "       'Breezy and Overcast', 'Humid and Mostly Cloudy',\n",
       "       'Humid and Partly Cloudy', 'Windy and Foggy', 'Windy and Overcast',\n",
       "       'Breezy and Foggy', 'Windy and Partly Cloudy', 'Breezy',\n",
       "       'Dry and Partly Cloudy', 'Windy and Mostly Cloudy',\n",
       "       'Dangerously Windy and Partly Cloudy', 'Dry', 'Windy',\n",
       "       'Humid and Overcast', 'Light Rain', 'Drizzle', 'Windy and Dry',\n",
       "       'Dry and Mostly Cloudy', 'Breezy and Dry', 'Rain'], dtype=object)"
      ]
     },
     "execution_count": 406,
     "metadata": {},
     "output_type": "execute_result"
    }
   ],
   "source": [
    "df['Summary'].unique()"
   ]
  },
  {
   "cell_type": "code",
   "execution_count": 407,
   "id": "a3023b2b",
   "metadata": {},
   "outputs": [],
   "source": [
    "#now we need to encode summary column values.for that we use labelencoder provided by sklearn preprocessing library.\n",
    "le=LabelEncoder()\n",
    "var=df['Summary']\n",
    "le.fit(var)\n",
    "le.classes_#to display unique types of data present\n",
    "var_one=le.transform(var)#to transform data to encoded format\n",
    "df['Summary']=var_one"
   ]
  },
  {
   "cell_type": "code",
   "execution_count": 408,
   "id": "a878a6aa",
   "metadata": {},
   "outputs": [
    {
     "data": {
      "text/plain": [
       "rain    85224\n",
       "snow    10712\n",
       "Name: Precip Type, dtype: int64"
      ]
     },
     "execution_count": 408,
     "metadata": {},
     "output_type": "execute_result"
    }
   ],
   "source": [
    "df['Precip Type'].value_counts()#we do the encoding for this column too(0-rain,1-snow,2-NaN)"
   ]
  },
  {
   "cell_type": "code",
   "execution_count": 409,
   "id": "030a8e58",
   "metadata": {},
   "outputs": [],
   "source": [
    "precip=df['Precip Type']\n",
    "le.fit(precip)\n",
    "le.classes_\n",
    "var_two=le.transform(precip)\n",
    "df['Precip Type']=var_two"
   ]
  },
  {
   "cell_type": "code",
   "execution_count": 410,
   "id": "9670768c",
   "metadata": {},
   "outputs": [
    {
     "data": {
      "text/html": [
       "<div>\n",
       "<style scoped>\n",
       "    .dataframe tbody tr th:only-of-type {\n",
       "        vertical-align: middle;\n",
       "    }\n",
       "\n",
       "    .dataframe tbody tr th {\n",
       "        vertical-align: top;\n",
       "    }\n",
       "\n",
       "    .dataframe thead th {\n",
       "        text-align: right;\n",
       "    }\n",
       "</style>\n",
       "<table border=\"1\" class=\"dataframe\">\n",
       "  <thead>\n",
       "    <tr style=\"text-align: right;\">\n",
       "      <th></th>\n",
       "      <th>Summary</th>\n",
       "      <th>Precip Type</th>\n",
       "      <th>Temperature (C)</th>\n",
       "      <th>Apparent Temperature (C)</th>\n",
       "      <th>Humidity</th>\n",
       "    </tr>\n",
       "  </thead>\n",
       "  <tbody>\n",
       "    <tr>\n",
       "      <th>0</th>\n",
       "      <td>19</td>\n",
       "      <td>0</td>\n",
       "      <td>9.472222</td>\n",
       "      <td>7.388889</td>\n",
       "      <td>0.89</td>\n",
       "    </tr>\n",
       "    <tr>\n",
       "      <th>1</th>\n",
       "      <td>19</td>\n",
       "      <td>0</td>\n",
       "      <td>9.355556</td>\n",
       "      <td>7.227778</td>\n",
       "      <td>0.86</td>\n",
       "    </tr>\n",
       "    <tr>\n",
       "      <th>2</th>\n",
       "      <td>17</td>\n",
       "      <td>0</td>\n",
       "      <td>9.377778</td>\n",
       "      <td>9.377778</td>\n",
       "      <td>0.89</td>\n",
       "    </tr>\n",
       "    <tr>\n",
       "      <th>3</th>\n",
       "      <td>19</td>\n",
       "      <td>0</td>\n",
       "      <td>8.288889</td>\n",
       "      <td>5.944444</td>\n",
       "      <td>0.83</td>\n",
       "    </tr>\n",
       "    <tr>\n",
       "      <th>4</th>\n",
       "      <td>17</td>\n",
       "      <td>0</td>\n",
       "      <td>8.755556</td>\n",
       "      <td>6.977778</td>\n",
       "      <td>0.83</td>\n",
       "    </tr>\n",
       "  </tbody>\n",
       "</table>\n",
       "</div>"
      ],
      "text/plain": [
       "   Summary  Precip Type  Temperature (C)  Apparent Temperature (C)  Humidity\n",
       "0       19            0         9.472222                  7.388889      0.89\n",
       "1       19            0         9.355556                  7.227778      0.86\n",
       "2       17            0         9.377778                  9.377778      0.89\n",
       "3       19            0         8.288889                  5.944444      0.83\n",
       "4       17            0         8.755556                  6.977778      0.83"
      ]
     },
     "execution_count": 410,
     "metadata": {},
     "output_type": "execute_result"
    }
   ],
   "source": [
    "df.head()"
   ]
  },
  {
   "cell_type": "markdown",
   "id": "b4313344",
   "metadata": {},
   "source": [
    "NORMALIZATION"
   ]
  },
  {
   "cell_type": "code",
   "execution_count": 411,
   "id": "aef47f2b",
   "metadata": {},
   "outputs": [
    {
     "data": {
      "text/plain": [
       "(96453, 4)"
      ]
     },
     "execution_count": 411,
     "metadata": {},
     "output_type": "execute_result"
    }
   ],
   "source": [
    "normalize_list=np.asanyarray(df[['Precip Type','Summary','Temperature (C)','Humidity']])\n",
    "normalize_final=normalize(normalize_list)\n",
    "normalize_final.shape\n",
    "#In the above normalize method we passes categorical valued columns though we need not to but that needs to be rectified since we couldnt merge those two columns with the normalized value array excluding those two columns."
   ]
  },
  {
   "cell_type": "code",
   "execution_count": 412,
   "id": "08c1c5a9",
   "metadata": {},
   "outputs": [],
   "source": [
    "X=normalize_final\n",
    "y=np.asanyarray(df[['Apparent Temperature (C)']])"
   ]
  },
  {
   "cell_type": "markdown",
   "id": "e169cae4",
   "metadata": {},
   "source": [
    "TRAIN-TEST-SPLIT"
   ]
  },
  {
   "cell_type": "code",
   "execution_count": 413,
   "id": "bb4c3e8d",
   "metadata": {},
   "outputs": [],
   "source": [
    "X_train,X_test,y_train,y_test=train_test_split(X,y,test_size=0.2,random_state=45)"
   ]
  },
  {
   "cell_type": "markdown",
   "id": "89e8e202",
   "metadata": {},
   "source": [
    "LINEAR REGRESSION CODE STARTS HERE"
   ]
  },
  {
   "cell_type": "code",
   "execution_count": 414,
   "id": "743e49da",
   "metadata": {},
   "outputs": [],
   "source": [
    "LR=LinearRegression()"
   ]
  },
  {
   "cell_type": "code",
   "execution_count": 415,
   "id": "4e40fcc0",
   "metadata": {},
   "outputs": [
    {
     "data": {
      "text/plain": [
       "LinearRegression()"
      ]
     },
     "execution_count": 415,
     "metadata": {},
     "output_type": "execute_result"
    }
   ],
   "source": [
    "LR.fit(X_train,y_train)"
   ]
  },
  {
   "cell_type": "code",
   "execution_count": 416,
   "id": "b324419e",
   "metadata": {},
   "outputs": [
    {
     "data": {
      "text/plain": [
       "array([[  63.82406135,   -5.12353711,   23.50729337, -130.81642009]])"
      ]
     },
     "execution_count": 416,
     "metadata": {},
     "output_type": "execute_result"
    }
   ],
   "source": [
    "LR.coef_"
   ]
  },
  {
   "cell_type": "code",
   "execution_count": 417,
   "id": "4de185d0",
   "metadata": {},
   "outputs": [
    {
     "data": {
      "text/plain": [
       "array([8.01408047])"
      ]
     },
     "execution_count": 417,
     "metadata": {},
     "output_type": "execute_result"
    }
   ],
   "source": [
    "LR.intercept_"
   ]
  },
  {
   "cell_type": "code",
   "execution_count": 418,
   "id": "6515add4",
   "metadata": {},
   "outputs": [],
   "source": [
    "predicted=LR.predict(X_test)"
   ]
  },
  {
   "cell_type": "markdown",
   "id": "4f334618",
   "metadata": {},
   "source": [
    "ERROR ANALYSIS AND COMPARISONS"
   ]
  },
  {
   "cell_type": "code",
   "execution_count": 419,
   "id": "0dd9eacc",
   "metadata": {},
   "outputs": [
    {
     "data": {
      "text/html": [
       "<div>\n",
       "<style scoped>\n",
       "    .dataframe tbody tr th:only-of-type {\n",
       "        vertical-align: middle;\n",
       "    }\n",
       "\n",
       "    .dataframe tbody tr th {\n",
       "        vertical-align: top;\n",
       "    }\n",
       "\n",
       "    .dataframe thead th {\n",
       "        text-align: right;\n",
       "    }\n",
       "</style>\n",
       "<table border=\"1\" class=\"dataframe\">\n",
       "  <thead>\n",
       "    <tr style=\"text-align: right;\">\n",
       "      <th></th>\n",
       "      <th>Actual</th>\n",
       "      <th>Predicted</th>\n",
       "    </tr>\n",
       "  </thead>\n",
       "  <tbody>\n",
       "    <tr>\n",
       "      <th>0</th>\n",
       "      <td>11.161111</td>\n",
       "      <td>9.868879</td>\n",
       "    </tr>\n",
       "    <tr>\n",
       "      <th>1</th>\n",
       "      <td>22.105556</td>\n",
       "      <td>20.754322</td>\n",
       "    </tr>\n",
       "    <tr>\n",
       "      <th>2</th>\n",
       "      <td>31.988889</td>\n",
       "      <td>24.676659</td>\n",
       "    </tr>\n",
       "    <tr>\n",
       "      <th>3</th>\n",
       "      <td>-0.527778</td>\n",
       "      <td>-10.702307</td>\n",
       "    </tr>\n",
       "    <tr>\n",
       "      <th>4</th>\n",
       "      <td>23.655556</td>\n",
       "      <td>20.414252</td>\n",
       "    </tr>\n",
       "    <tr>\n",
       "      <th>...</th>\n",
       "      <td>...</td>\n",
       "      <td>...</td>\n",
       "    </tr>\n",
       "    <tr>\n",
       "      <th>19286</th>\n",
       "      <td>2.050000</td>\n",
       "      <td>2.334798</td>\n",
       "    </tr>\n",
       "    <tr>\n",
       "      <th>19287</th>\n",
       "      <td>26.044444</td>\n",
       "      <td>22.161478</td>\n",
       "    </tr>\n",
       "    <tr>\n",
       "      <th>19288</th>\n",
       "      <td>13.983333</td>\n",
       "      <td>16.135778</td>\n",
       "    </tr>\n",
       "    <tr>\n",
       "      <th>19289</th>\n",
       "      <td>22.872222</td>\n",
       "      <td>20.488668</td>\n",
       "    </tr>\n",
       "    <tr>\n",
       "      <th>19290</th>\n",
       "      <td>5.233333</td>\n",
       "      <td>6.993735</td>\n",
       "    </tr>\n",
       "  </tbody>\n",
       "</table>\n",
       "<p>19291 rows × 2 columns</p>\n",
       "</div>"
      ],
      "text/plain": [
       "          Actual  Predicted\n",
       "0      11.161111   9.868879\n",
       "1      22.105556  20.754322\n",
       "2      31.988889  24.676659\n",
       "3      -0.527778 -10.702307\n",
       "4      23.655556  20.414252\n",
       "...          ...        ...\n",
       "19286   2.050000   2.334798\n",
       "19287  26.044444  22.161478\n",
       "19288  13.983333  16.135778\n",
       "19289  22.872222  20.488668\n",
       "19290   5.233333   6.993735\n",
       "\n",
       "[19291 rows x 2 columns]"
      ]
     },
     "execution_count": 419,
     "metadata": {},
     "output_type": "execute_result"
    }
   ],
   "source": [
    "df2=pd.DataFrame(y_test)\n",
    "df2['Predicted']=predicted\n",
    "df2.rename(columns={0:'Actual'},inplace=True)\n",
    "df2"
   ]
  },
  {
   "cell_type": "code",
   "execution_count": 420,
   "id": "d6a75cc4",
   "metadata": {},
   "outputs": [
    {
     "name": "stdout",
     "output_type": "stream",
     "text": [
      "Mean Absolute Error: 2.5073302980113072\n",
      "Mean Squared Error: 12.68512708888033\n"
     ]
    }
   ],
   "source": [
    "print('Mean Absolute Error:',metrics.mean_absolute_error(y_test,predicted))\n",
    "print('Mean Squared Error:',metrics.mean_squared_error(y_test,predicted))"
   ]
  },
  {
   "cell_type": "code",
   "execution_count": 422,
   "id": "38e0ce07",
   "metadata": {},
   "outputs": [
    {
     "data": {
      "text/plain": [
       "<AxesSubplot:>"
      ]
     },
     "execution_count": 422,
     "metadata": {},
     "output_type": "execute_result"
    },
    {
     "data": {
      "image/png": "[encoded data removed]",
      "text/plain": [
       "<Figure size 432x288 with 1 Axes>"
      ]
     },
     "metadata": {
      "needs_background": "light"
     },
     "output_type": "display_data"
    }
   ],
   "source": [
    "graph=df2.head(15)\n",
    "graph.plot(kind='bar')"
   ]
  }
 ],
 "metadata": {
  "kernelspec": {
   "display_name": "Python 3",
   "language": "python",
   "name": "python3"
  },
  "language_info": {
   "codemirror_mode": {
    "name": "ipython",
    "version": 3
   },
   "file_extension": ".py",
   "mimetype": "text/x-python",
   "name": "python",
   "nbconvert_exporter": "python",
   "pygments_lexer": "ipython3",
   "version": "3.9.5"
  }
 },
 "nbformat": 4,
 "nbformat_minor": 5
}
